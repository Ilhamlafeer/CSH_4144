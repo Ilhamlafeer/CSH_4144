{
 "cells": [
  {
   "cell_type": "code",
   "execution_count": 1,
   "id": "89a5a657",
   "metadata": {},
   "outputs": [],
   "source": [
    "#matrix and their basic operations"
   ]
  },
  {
   "cell_type": "code",
   "execution_count": 2,
   "id": "4a709122",
   "metadata": {},
   "outputs": [],
   "source": [
    "x=[1,2,3,4,5]"
   ]
  },
  {
   "cell_type": "code",
   "execution_count": 3,
   "id": "f497337a",
   "metadata": {},
   "outputs": [],
   "source": [
    "import numpy as np\n",
    "x=np.array([1,2,3,4,5])"
   ]
  },
  {
   "cell_type": "code",
   "execution_count": 4,
   "id": "0d94df26",
   "metadata": {},
   "outputs": [
    {
     "name": "stdout",
     "output_type": "stream",
     "text": [
      "[1 2 3 4 5]\n"
     ]
    }
   ],
   "source": [
    "print(x)"
   ]
  },
  {
   "cell_type": "code",
   "execution_count": 5,
   "id": "339fd033",
   "metadata": {},
   "outputs": [
    {
     "name": "stdout",
     "output_type": "stream",
     "text": [
      "[[1 5 2]\n",
      " [4 7 4]\n",
      " [2 0 9]]\n"
     ]
    }
   ],
   "source": [
    "m=np.array([[1,5,2],\n",
    "          [4,7,4],\n",
    "          [2,0,9]])\n",
    "print(m)"
   ]
  },
  {
   "cell_type": "code",
   "execution_count": 7,
   "id": "7aceab2a",
   "metadata": {},
   "outputs": [
    {
     "name": "stdout",
     "output_type": "stream",
     "text": [
      "Matrix Transpose: \n",
      " [[1 4 2]\n",
      " [5 7 0]\n",
      " [2 4 9]] \n",
      "\n"
     ]
    }
   ],
   "source": [
    "print('Matrix Transpose: \\n',m.transpose(), '\\n')"
   ]
  },
  {
   "cell_type": "code",
   "execution_count": 8,
   "id": "349485da",
   "metadata": {},
   "outputs": [
    {
     "name": "stdout",
     "output_type": "stream",
     "text": [
      "Matrix Determinant:  -105.00000000000006 \n",
      "\n"
     ]
    }
   ],
   "source": [
    "print('Matrix Determinant: ',np.linalg.det(m),'\\n') #linalg-performing linear algebra operation"
   ]
  },
  {
   "cell_type": "code",
   "execution_count": 10,
   "id": "ab2a93aa",
   "metadata": {},
   "outputs": [
    {
     "name": "stdout",
     "output_type": "stream",
     "text": [
      "Matrix inverse: \n",
      " [[-0.6         0.42857143 -0.05714286]\n",
      " [ 0.26666667 -0.04761905 -0.03809524]\n",
      " [ 0.13333333 -0.0952381   0.12380952]] \n",
      "\n"
     ]
    }
   ],
   "source": [
    "m_inv=np.linalg.inv(m)\n",
    "print('Matrix inverse: \\n',m_inv,'\\n')"
   ]
  },
  {
   "cell_type": "code",
   "execution_count": 11,
   "id": "f87148d7",
   "metadata": {},
   "outputs": [
    {
     "name": "stdout",
     "output_type": "stream",
     "text": [
      "Product of matrix and its inverse: \n",
      " [[1. 0. 0.]\n",
      " [0. 1. 0.]\n",
      " [0. 0. 1.]]\n"
     ]
    }
   ],
   "source": [
    "iden_m=np.dot(m,m_inv)\n",
    "iden_m=np.round(np.abs(iden_m),0)\n",
    "print('Product of matrix and its inverse: \\n', iden_m)"
   ]
  },
  {
   "cell_type": "code",
   "execution_count": 12,
   "id": "7c0e3e00",
   "metadata": {},
   "outputs": [
    {
     "name": "stdout",
     "output_type": "stream",
     "text": [
      "Eigen values: \n",
      " [-1.32455532 11.32455532  7.        ] \n",
      "\n",
      "Eigen vectors: \n",
      " [[-0.91761521  0.46120352 -0.46829291]\n",
      " [ 0.35550789  0.79362022 -0.74926865]\n",
      " [ 0.17775394  0.39681011  0.46829291]]\n"
     ]
    }
   ],
   "source": [
    "eigen_vals, eigen_vecs= np.linalg.eig(m)\n",
    "print('Eigen values: \\n',eigen_vals,'\\n')\n",
    "print('Eigen vectors: \\n',eigen_vecs)"
   ]
  },
  {
   "cell_type": "code",
   "execution_count": 13,
   "id": "aaa9dc4d",
   "metadata": {},
   "outputs": [
    {
     "name": "stdout",
     "output_type": "stream",
     "text": [
      "Getting SVD outputs:- \n",
      "\n",
      "U:\n",
      " [[ 0.3831556  -0.39279153  0.83600634]\n",
      " [ 0.68811254 -0.48239977 -0.54202545]\n",
      " [ 0.61619228  0.78294653  0.0854506 ]] \n",
      "\n",
      "S:\n",
      " [12.10668383  6.91783499  1.25370079] \n",
      "\n",
      "VT:\n",
      " [[ 0.36079164  0.55610321  0.74871798]\n",
      " [-0.10935467 -0.7720271   0.62611158]\n",
      " [-0.92621323  0.30777163  0.21772844]] \n",
      "\n"
     ]
    }
   ],
   "source": [
    "U,S,VT= np.linalg.svd(m)    #singal value decomposition\n",
    "print('Getting SVD outputs:- \\n')\n",
    "print('U:\\n',U,'\\n')\n",
    "print('S:\\n',S,'\\n')\n",
    "print('VT:\\n',VT,'\\n')"
   ]
  },
  {
   "cell_type": "code",
   "execution_count": 15,
   "id": "22728e13",
   "metadata": {},
   "outputs": [
    {
     "name": "stdout",
     "output_type": "stream",
     "text": [
      "[[0. 0. 0.]\n",
      " [0. 0. 0.]]\n"
     ]
    }
   ],
   "source": [
    "zeros_array=np.zeros((2,3))\n",
    "print(zeros_array)"
   ]
  },
  {
   "cell_type": "code",
   "execution_count": 18,
   "id": "f33f2cec",
   "metadata": {},
   "outputs": [
    {
     "name": "stdout",
     "output_type": "stream",
     "text": [
      "[[1 1 1]\n",
      " [1 1 1]\n",
      " [1 1 1]\n",
      " [1 1 1]]\n"
     ]
    }
   ],
   "source": [
    "ones_array=np.ones((4,3),dtype=np.int32)   #specifying dtype\n",
    "print(ones_array)"
   ]
  },
  {
   "cell_type": "code",
   "execution_count": 19,
   "id": "ad471632",
   "metadata": {},
   "outputs": [],
   "source": []
  },
  {
   "cell_type": "code",
   "execution_count": null,
   "id": "9fb8c3f5",
   "metadata": {},
   "outputs": [],
   "source": []
  }
 ],
 "metadata": {
  "kernelspec": {
   "display_name": "Python 3 (ipykernel)",
   "language": "python",
   "name": "python3"
  },
  "language_info": {
   "codemirror_mode": {
    "name": "ipython",
    "version": 3
   },
   "file_extension": ".py",
   "mimetype": "text/x-python",
   "name": "python",
   "nbconvert_exporter": "python",
   "pygments_lexer": "ipython3",
   "version": "3.9.13"
  }
 },
 "nbformat": 4,
 "nbformat_minor": 5
}
