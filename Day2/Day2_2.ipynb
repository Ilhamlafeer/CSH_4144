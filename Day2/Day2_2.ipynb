{
 "cells": [
  {
   "cell_type": "code",
   "execution_count": 1,
   "id": "384250b4",
   "metadata": {},
   "outputs": [],
   "source": [
    "#----- Random Varialbles-------\n",
    "\n",
    "import numpy as np"
   ]
  },
  {
   "cell_type": "code",
   "execution_count": 4,
   "id": "f05e7e03",
   "metadata": {},
   "outputs": [
    {
     "name": "stdout",
     "output_type": "stream",
     "text": [
      "Data : \n",
      " [19 11  7  1  2  3  3  7 18 13  5  9  7  2  7]\n"
     ]
    }
   ],
   "source": [
    "#get data\n",
    "import numpy as np\n",
    "nums = np.random.randint(1,20,size=(1,15))[0]  #generates a 1-dimentional numpy array containing 15 random numbers\n",
    "print('Data : \\n',nums)"
   ]
  },
  {
   "cell_type": "code",
   "execution_count": 16,
   "id": "8e1efd0b",
   "metadata": {},
   "outputs": [
    {
     "name": "stdout",
     "output_type": "stream",
     "text": [
      "Mean:  7.6\n",
      "Median:  7.0\n"
     ]
    }
   ],
   "source": [
    "#get descriptive stats\n",
    "import scipy as sp\n",
    "print('Mean: ',np.mean(nums))\n",
    "print('Median: ',np.median(nums))\n"
   ]
  },
  {
   "cell_type": "code",
   "execution_count": 17,
   "id": "258c33ba",
   "metadata": {},
   "outputs": [
    {
     "name": "stdout",
     "output_type": "stream",
     "text": [
      "Mode:  ModeResult(mode=array([7]), count=array([4]))\n",
      "standard Deviation:  5.401234426807759\n",
      "Variance:  29.17333333333334\n"
     ]
    },
    {
     "name": "stderr",
     "output_type": "stream",
     "text": [
      "C:\\Users\\User\\AppData\\Local\\Temp\\ipykernel_10440\\3309551749.py:1: FutureWarning: Unlike other reduction functions (e.g. `skew`, `kurtosis`), the default behavior of `mode` typically preserves the axis it acts along. In SciPy 1.11.0, this behavior will change: the default value of `keepdims` will become False, the `axis` over which the statistic is taken will be eliminated, and the value None will no longer be accepted. Set `keepdims` to True or False to avoid this warning.\n",
      "  print('Mode: ',sp.stats.mode(nums))\n"
     ]
    }
   ],
   "source": [
    "print('Mode: ',sp.stats.mode(nums))\n",
    "print('standard Deviation: ',np.std(nums))\n",
    "print('Variance: ',np.var(nums))\n"
   ]
  },
  {
   "cell_type": "code",
   "execution_count": 18,
   "id": "54137cb6",
   "metadata": {},
   "outputs": [
    {
     "name": "stdout",
     "output_type": "stream",
     "text": [
      "Skew:  0.8267458037851865\n",
      "Kurtosis:  -0.30680143311197305\n"
     ]
    }
   ],
   "source": [
    "print('Skew: ',sp.stats.skew(nums))\n",
    "print('Kurtosis: ',sp.stats.kurtosis(nums))"
   ]
  },
  {
   "cell_type": "code",
   "execution_count": 22,
   "id": "84d42588",
   "metadata": {},
   "outputs": [
    {
     "name": "stdout",
     "output_type": "stream",
     "text": [
      "1.9.1\n"
     ]
    }
   ],
   "source": [
    "import scipy\n",
    "print(scipy.__version__)"
   ]
  },
  {
   "cell_type": "code",
   "execution_count": 24,
   "id": "3ce53930",
   "metadata": {},
   "outputs": [],
   "source": [
    "#ex01\n",
    "#write a code to generate 3 random value between 100 and 999 which is divisible by 5\n"
   ]
  },
  {
   "cell_type": "code",
   "execution_count": 25,
   "id": "c3aec8b6",
   "metadata": {},
   "outputs": [],
   "source": [
    "#Ex02\n",
    "#write a code to generate 100 random lottery tickets and pick two lucky tickets from is as a winnwer\n",
    "\n",
    "#The Lottery number must be 10 digit long.\n",
    "#All 100 ticket number must be unique\n",
    "#generate a random list of 1000 members using randarange() and then use the simple()"
   ]
  },
  {
   "cell_type": "code",
   "execution_count": null,
   "id": "2495221d",
   "metadata": {},
   "outputs": [],
   "source": [
    "#Ex03\n",
    "#write a code to generate a random password which meets the following conditions\n",
    "#password length must be 10 characters long\n",
    "#it must contain at least 2 upper case letters, 1 digit and special character"
   ]
  }
 ],
 "metadata": {
  "kernelspec": {
   "display_name": "Python 3 (ipykernel)",
   "language": "python",
   "name": "python3"
  },
  "language_info": {
   "codemirror_mode": {
    "name": "ipython",
    "version": 3
   },
   "file_extension": ".py",
   "mimetype": "text/x-python",
   "name": "python",
   "nbconvert_exporter": "python",
   "pygments_lexer": "ipython3",
   "version": "3.9.13"
  }
 },
 "nbformat": 4,
 "nbformat_minor": 5
}
