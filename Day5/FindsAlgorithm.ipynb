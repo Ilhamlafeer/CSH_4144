{
 "cells": [
  {
   "cell_type": "code",
   "execution_count": 1,
   "id": "89e7269c",
   "metadata": {},
   "outputs": [
    {
     "name": "stdout",
     "output_type": "stream",
     "text": [
      "Most Specific Hypothesis: ['Sunny', 'Warm', '?', 'Strong', '?', '?']\n"
     ]
    }
   ],
   "source": [
    "#internet code\n",
    "\n",
    "\n",
    "# Function to implement Find-S Algorithm\n",
    "def find_s_algorithm(data, target):\n",
    "    # Initialize the hypothesis with the first positive example\n",
    "    hypothesis = None\n",
    "    \n",
    "    for i in range(len(data)):\n",
    "        if target[i] == \"Yes\":  # Only consider positive examples\n",
    "            if hypothesis is None:\n",
    "                hypothesis = data[i].copy()  # Initialize hypothesis\n",
    "            else:\n",
    "                # Update hypothesis to be the most specific\n",
    "                for j in range(len(hypothesis)):\n",
    "                    if hypothesis[j] != data[i][j]:\n",
    "                        hypothesis[j] = \"?\"\n",
    "    \n",
    "    return hypothesis\n",
    "\n",
    "# Example dataset\n",
    "data = [\n",
    "    [\"Sunny\", \"Warm\", \"Normal\", \"Strong\", \"Warm\", \"Same\"],\n",
    "    [\"Sunny\", \"Warm\", \"High\", \"Strong\", \"Warm\", \"Same\"],\n",
    "    [\"Rainy\", \"Cold\", \"High\", \"Strong\", \"Warm\", \"Change\"],\n",
    "    [\"Sunny\", \"Warm\", \"High\", \"Strong\", \"Cool\", \"Change\"]\n",
    "]\n",
    "\n",
    "# Target values (Yes for positive, No for negative)\n",
    "target = [\"Yes\", \"Yes\", \"No\", \"Yes\"]\n",
    "\n",
    "# Run the Find-S Algorithm\n",
    "hypothesis = find_s_algorithm(data, target)\n",
    "print(\"Most Specific Hypothesis:\", hypothesis)\n"
   ]
  },
  {
   "cell_type": "code",
   "execution_count": 13,
   "id": "a1c97522",
   "metadata": {},
   "outputs": [
    {
     "name": "stdout",
     "output_type": "stream",
     "text": [
      "      Time Weather Temparate Company Humidify    Wind Goes\n",
      "0  Morning   Sunny      Warm     Yes      Mid  Strong  Yes\n",
      "1  Evening   Rainy      Cold      No     Mild  Normal   No\n",
      "2  Morning   Sunny  Moderate     Yes   Normal  Normal  Yes\n",
      "3  Evening   Sunny      Cold     Yes     High  Strong  Yes\n",
      "\n",
      "\n",
      "first : n the atributes are:  [['Morning' 'Sunny' 'Warm' 'Yes' 'Mid' 'Strong']\n",
      " ['Evening' 'Rainy' 'Cold' 'No' 'Mild' 'Normal']\n",
      " ['Morning' 'Sunny' 'Moderate' 'Yes' 'Normal' 'Normal']\n",
      " ['Evening' 'Sunny' 'Cold' 'Yes' 'High' 'Strong']]\n",
      "\n",
      "\n",
      "Second : n the target is :  ['Sunny' 'Rainy' 'Sunny' 'Sunny']\n",
      "\n",
      "\n"
     ]
    },
    {
     "ename": "UnboundLocalError",
     "evalue": "local variable 'specific_h' referenced before assignment",
     "output_type": "error",
     "traceback": [
      "\u001b[1;31m---------------------------------------------------------------------------\u001b[0m",
      "\u001b[1;31mUnboundLocalError\u001b[0m                         Traceback (most recent call last)",
      "\u001b[1;32m~\\AppData\\Local\\Temp\\ipykernel_6964\\2585743456.py\u001b[0m in \u001b[0;36m<module>\u001b[1;34m\u001b[0m\n\u001b[0;32m     36\u001b[0m     \u001b[1;32mreturn\u001b[0m \u001b[0mspecific_h\u001b[0m\u001b[1;33m\u001b[0m\u001b[1;33m\u001b[0m\u001b[0m\n\u001b[0;32m     37\u001b[0m \u001b[1;33m\u001b[0m\u001b[0m\n\u001b[1;32m---> 38\u001b[1;33m \u001b[0mprint\u001b[0m\u001b[1;33m(\u001b[0m\u001b[0mtrain\u001b[0m\u001b[1;33m(\u001b[0m\u001b[0md\u001b[0m\u001b[1;33m,\u001b[0m\u001b[0mtarget\u001b[0m\u001b[1;33m)\u001b[0m\u001b[1;33m)\u001b[0m\u001b[1;33m\u001b[0m\u001b[1;33m\u001b[0m\u001b[0m\n\u001b[0m",
      "\u001b[1;32m~\\AppData\\Local\\Temp\\ipykernel_6964\\2585743456.py\u001b[0m in \u001b[0;36mtrain\u001b[1;34m(con, tar)\u001b[0m\n\u001b[0;32m     34\u001b[0m                 \u001b[1;32melse\u001b[0m\u001b[1;33m:\u001b[0m\u001b[1;33m\u001b[0m\u001b[1;33m\u001b[0m\u001b[0m\n\u001b[0;32m     35\u001b[0m                     \u001b[1;32mpass\u001b[0m\u001b[1;33m\u001b[0m\u001b[1;33m\u001b[0m\u001b[0m\n\u001b[1;32m---> 36\u001b[1;33m     \u001b[1;32mreturn\u001b[0m \u001b[0mspecific_h\u001b[0m\u001b[1;33m\u001b[0m\u001b[1;33m\u001b[0m\u001b[0m\n\u001b[0m\u001b[0;32m     37\u001b[0m \u001b[1;33m\u001b[0m\u001b[0m\n\u001b[0;32m     38\u001b[0m \u001b[0mprint\u001b[0m\u001b[1;33m(\u001b[0m\u001b[0mtrain\u001b[0m\u001b[1;33m(\u001b[0m\u001b[0md\u001b[0m\u001b[1;33m,\u001b[0m\u001b[0mtarget\u001b[0m\u001b[1;33m)\u001b[0m\u001b[1;33m)\u001b[0m\u001b[1;33m\u001b[0m\u001b[1;33m\u001b[0m\u001b[0m\n",
      "\u001b[1;31mUnboundLocalError\u001b[0m: local variable 'specific_h' referenced before assignment"
     ]
    }
   ],
   "source": [
    "import pandas as pd\n",
    "import numpy as np\n",
    "\n",
    "#to read the data in the csv file\n",
    "data = pd.read_csv(\"Book1.csv\")\n",
    "print(data)\n",
    "\n",
    "print(\"\\n\")\n",
    "#marking an array of all the atributes\n",
    "concepts = np.array(data)[:,:-1]\n",
    "print(\"first : n the atributes are: \",concepts)\n",
    "\n",
    "print('\\n')\n",
    "#segragating the target that has positive abd negative examples\n",
    "target =  np.array(data)[: , 1]\n",
    "print(\"Second : n the target is : \",target)\n",
    "\n",
    "print('\\n')\n",
    "\n",
    "target=  np .array(data)[: , -1]\n",
    "\n",
    "\n",
    "def train(con, tar):\n",
    "    for i, val in enumerate(tar):\n",
    "        if val == 'yes':\n",
    "            specific_h = con[i].copy()\n",
    "            break\n",
    "            \n",
    "    for i, val in enumerate(con):\n",
    "        if tar[i] == 'yes':\n",
    "            for x in range(len(specific_h)):\n",
    "                if val[x] != specific_h[x]:\n",
    "                    specific_h[x] = '?'\n",
    "                else:\n",
    "                    pass\n",
    "    return specific_h\n",
    "\n",
    "print(train(d,target))\n"
   ]
  },
  {
   "cell_type": "code",
   "execution_count": null,
   "id": "6beae85d",
   "metadata": {},
   "outputs": [],
   "source": [
    "\n",
    "import pandas as pd\n",
    "import numpy as np\n",
    "\n"
   ]
  }
 ],
 "metadata": {
  "kernelspec": {
   "display_name": "Python 3 (ipykernel)",
   "language": "python",
   "name": "python3"
  },
  "language_info": {
   "codemirror_mode": {
    "name": "ipython",
    "version": 3
   },
   "file_extension": ".py",
   "mimetype": "text/x-python",
   "name": "python",
   "nbconvert_exporter": "python",
   "pygments_lexer": "ipython3",
   "version": "3.9.13"
  }
 },
 "nbformat": 4,
 "nbformat_minor": 5
}
